{
  "nbformat": 4,
  "nbformat_minor": 0,
  "metadata": {
    "colab": {
      "provenance": [],
      "authorship_tag": "ABX9TyPVaGMbpSG9/50MhyecOPH/",
      "include_colab_link": true
    },
    "kernelspec": {
      "name": "python3",
      "display_name": "Python 3"
    },
    "language_info": {
      "name": "python"
    }
  },
  "cells": [
    {
      "cell_type": "markdown",
      "metadata": {
        "id": "view-in-github",
        "colab_type": "text"
      },
      "source": [
        "<a href=\"https://colab.research.google.com/github/kelompok5keren/rumus-luas-persegi-panjang/blob/main/kelompok_5.ipynb\" target=\"_parent\"><img src=\"https://colab.research.google.com/assets/colab-badge.svg\" alt=\"Open In Colab\"/></a>"
      ]
    },
    {
      "cell_type": "markdown",
      "source": [
        "Kelompok 5"
      ],
      "metadata": {
        "id": "i4-NMNHZiyfn"
      }
    },
    {
      "cell_type": "code",
      "execution_count": 1,
      "metadata": {
        "colab": {
          "base_uri": "https://localhost:8080/"
        },
        "id": "YFWHVCu-eaGO",
        "outputId": "d6439540-8df4-4894-b84a-c66c6bce5468"
      },
      "outputs": [
        {
          "output_type": "stream",
          "name": "stdout",
          "text": [
            "luas persegi panjang adalah 1000 cm\n"
          ]
        }
      ],
      "source": [
        "panjang = 50\n",
        "lebar = 20\n",
        "luas = panjang*lebar\n",
        "print(\"luas persegi panjang adalah\",luas,\"cm\")"
      ]
    }
  ]
}